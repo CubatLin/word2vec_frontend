{
 "cells": [
  {
   "cell_type": "markdown",
   "id": "ae3905b6",
   "metadata": {
    "papermill": {
     "duration": 0.008401,
     "end_time": "2023-09-18T16:44:01.079325",
     "exception": false,
     "start_time": "2023-09-18T16:44:01.070924",
     "status": "completed"
    },
    "tags": []
   },
   "source": [
    "# Fine-Tuning with Llama 2, Bits and Bytes, and QLoRA\n",
    "\n",
    "Today we'll explore fine-tuning the Llama 2 model using QLoRA, Bits and Bytes, and PEFT.\n",
    "\n",
    "- QLoRA: [Quantized Low Rank Adapters](https://arxiv.org/pdf/2305.14314.pdf) - this is a method for fine-tuning LLMs that uses a small number of quantized, updateable parameters to limit the complexity of training. This technique also allows those small sets of parameters to be added efficiently into the model itself, which means you can do fine-tuning on lots of data sets, potentially, and swap these \"adapters\" into your model when necessary.\n",
    "- [Bits and Bytes](https://github.com/TimDettmers/bitsandbytes): An excellent package by Tim Dettmers et al., which provides a lightweight wrapper around custom CUDA functions that make LLMs go faster - optimizers, matrix mults, and quantization. In this notebook we'll be using the library to load our model as efficiently as possible.\n",
    "- [PEFT](https://github.com/huggingface/peft): An excellent Huggingface library that enables a number Parameter Efficient Fine-tuning (PEFT) methods, which again make it less expensive to fine-tune LLMs - especially on more lightweight hardware like that present in Kaggle notebooks."
   ]
  },
  {
   "cell_type": "markdown",
   "id": "045fe563",
   "metadata": {
    "id": "wIa8WRIHvuZy",
    "papermill": {
     "duration": 0.007662,
     "end_time": "2023-09-18T16:44:01.095137",
     "exception": false,
     "start_time": "2023-09-18T16:44:01.087475",
     "status": "completed"
    },
    "tags": []
   },
   "source": [
    "## Package Installation\n",
    "\n",
    "Note that we're loading very specific versions of these libraries. Dependencies in this space can be quite difficult to untangle, and simply taking the latest version of each library can lead to conflicting version requirements. It's a good idea to take note of which versions work for your particular use case, and `pip install` them directly."
   ]
  },
  {
   "cell_type": "code",
   "execution_count": 1,
   "id": "00982fa7",
   "metadata": {
    "_kg_hide-output": true,
    "execution": {
     "iopub.execute_input": "2023-09-18T16:44:01.113240Z",
     "iopub.status.busy": "2023-09-18T16:44:01.112518Z",
     "iopub.status.idle": "2023-09-18T16:49:22.173359Z",
     "shell.execute_reply": "2023-09-18T16:49:22.172121Z"
    },
    "id": "g3agEMJEnKsl",
    "outputId": "56ab843a-e9c8-4158-8c04-18d77aec44fd",
    "papermill": {
     "duration": 321.073123,
     "end_time": "2023-09-18T16:49:22.176267",
     "exception": false,
     "start_time": "2023-09-18T16:44:01.103144",
     "status": "completed"
    },
    "tags": []
   },
   "outputs": [
    {
     "name": "stdout",
     "output_type": "stream",
     "text": [
      "\u001b[31mERROR: pip's dependency resolver does not currently take into account all the packages that are installed. This behaviour is the source of the following dependency conflicts.\r\n",
      "torchdata 0.6.0 requires torch==2.0.0, but you have torch 2.0.1 which is incompatible.\u001b[0m\u001b[31m\r\n",
      "\u001b[0m\u001b[31mERROR: pip's dependency resolver does not currently take into account all the packages that are installed. This behaviour is the source of the following dependency conflicts.\r\n",
      "apache-beam 2.46.0 requires dill<0.3.2,>=0.3.1.1, but you have dill 0.3.6 which is incompatible.\r\n",
      "apache-beam 2.46.0 requires pyarrow<10.0.0,>=3.0.0, but you have pyarrow 11.0.0 which is incompatible.\r\n",
      "pathos 0.3.1 requires dill>=0.3.7, but you have dill 0.3.6 which is incompatible.\r\n",
      "pathos 0.3.1 requires multiprocess>=0.70.15, but you have multiprocess 0.70.14 which is incompatible.\r\n",
      "pymc3 3.11.5 requires numpy<1.22.2,>=1.15.0, but you have numpy 1.23.5 which is incompatible.\r\n",
      "pymc3 3.11.5 requires scipy<1.8.0,>=1.7.3, but you have scipy 1.11.2 which is incompatible.\u001b[0m\u001b[31m\r\n",
      "\u001b[0m"
     ]
    }
   ],
   "source": [
    "!pip install -qqq bitsandbytes==0.39.0\n",
    "!pip install -qqq torch==2.0.1\n",
    "!pip install -qqq -U git+https://github.com/huggingface/transformers.git@e03a9cc\n",
    "!pip install -qqq -U git+https://github.com/huggingface/peft.git@42a184f\n",
    "!pip install -qqq -U git+https://github.com/huggingface/accelerate.git@c9fbb71\n",
    "!pip install -qqq datasets==2.12.0\n",
    "!pip install -qqq loralib==0.1.1\n",
    "!pip install -qqq einops==0.6.1"
   ]
  },
  {
   "cell_type": "code",
   "execution_count": 2,
   "id": "13eda347",
   "metadata": {
    "execution": {
     "iopub.execute_input": "2023-09-18T16:49:22.193652Z",
     "iopub.status.busy": "2023-09-18T16:49:22.193304Z",
     "iopub.status.idle": "2023-09-18T16:49:35.568606Z",
     "shell.execute_reply": "2023-09-18T16:49:35.567616Z"
    },
    "id": "dv3aJo8Anhyw",
    "outputId": "66f7b274-28a9-45b4-c0e6-d25194424594",
    "papermill": {
     "duration": 13.38688,
     "end_time": "2023-09-18T16:49:35.571205",
     "exception": false,
     "start_time": "2023-09-18T16:49:22.184325",
     "status": "completed"
    },
    "tags": []
   },
   "outputs": [
    {
     "name": "stdout",
     "output_type": "stream",
     "text": [
      "\n",
      "===================================BUG REPORT===================================\n",
      "Welcome to bitsandbytes. For bug reports, please run\n",
      "\n",
      "python -m bitsandbytes\n",
      "\n",
      " and submit this information together with your error trace to: https://github.com/TimDettmers/bitsandbytes/issues\n",
      "================================================================================\n",
      "bin /opt/conda/lib/python3.10/site-packages/bitsandbytes/libbitsandbytes_cuda118.so\n",
      "CUDA SETUP: CUDA runtime path found: /usr/local/cuda/lib64/libcudart.so.11.0\n",
      "CUDA SETUP: Highest compute capability among GPUs detected: 7.5\n",
      "CUDA SETUP: Detected CUDA version 118\n",
      "CUDA SETUP: Loading binary /opt/conda/lib/python3.10/site-packages/bitsandbytes/libbitsandbytes_cuda118.so...\n"
     ]
    },
    {
     "name": "stderr",
     "output_type": "stream",
     "text": [
      "/opt/conda/lib/python3.10/site-packages/bitsandbytes/cuda_setup/main.py:149: UserWarning: WARNING: The following directories listed in your path were found to be non-existent: {PosixPath('/usr/local/lib/x86_64-linux-gnu'), PosixPath('/usr/local/cuda/lib'), PosixPath('/usr/local/nvidia/lib')}\n",
      "  warn(msg)\n",
      "/opt/conda/lib/python3.10/site-packages/scipy/__init__.py:146: UserWarning: A NumPy version >=1.16.5 and <1.23.0 is required for this version of SciPy (detected version 1.23.5\n",
      "  warnings.warn(f\"A NumPy version >={np_minversion} and <{np_maxversion}\"\n"
     ]
    }
   ],
   "source": [
    "import pandas as pd\n",
    "import numpy as np\n",
    "import json\n",
    "import os\n",
    "from pprint import pprint\n",
    "import bitsandbytes as bnb\n",
    "import torch\n",
    "import torch.nn as nn\n",
    "import transformers\n",
    "from datasets import load_dataset, Dataset\n",
    "from huggingface_hub import notebook_login\n",
    "\n",
    "from peft import LoraConfig, PeftConfig, PeftModel, get_peft_model, prepare_model_for_kbit_training\n",
    "from transformers import AutoConfig, AutoModelForCausalLM, AutoTokenizer, BitsAndBytesConfig\n",
    "\n",
    "os.environ[\"CUDA_VISIBLE_DEVICES\"] = \"0,1\""
   ]
  },
  {
   "cell_type": "markdown",
   "id": "7f302771",
   "metadata": {
    "id": "AgqJriqjwMyK",
    "papermill": {
     "duration": 0.008045,
     "end_time": "2023-09-18T16:49:35.588132",
     "exception": false,
     "start_time": "2023-09-18T16:49:35.580087",
     "status": "completed"
    },
    "tags": []
   },
   "source": [
    "# Loading and preparing our model\n",
    "\n",
    "We're going to use the Llama 2 7B model for our test. We'll be using Bits and Bytes to load it in 4-bit format, which should reduce memory consumption considerably, at a cost of some accuracy.\n",
    "\n",
    "Note the parameters in `BitsAndBytesConfig` - this is a fairly standard 4-bit quantization configuration, loading the weights in 4-bit format, using a straightforward format (`normal float 4`) with double quantization to improve QLoRA's resolution. The weights are converted back to `bfloat16` for weight updates, then the extra precision is discarded."
   ]
  },
  {
   "cell_type": "code",
   "execution_count": 3,
   "id": "b8c4da82",
   "metadata": {
    "execution": {
     "iopub.execute_input": "2023-09-18T16:49:35.605606Z",
     "iopub.status.busy": "2023-09-18T16:49:35.605275Z",
     "iopub.status.idle": "2023-09-18T16:54:58.371366Z",
     "shell.execute_reply": "2023-09-18T16:54:58.370155Z"
    },
    "id": "mllA2Ka_ol13",
    "papermill": {
     "duration": 322.780342,
     "end_time": "2023-09-18T16:54:58.376554",
     "exception": false,
     "start_time": "2023-09-18T16:49:35.596212",
     "status": "completed"
    },
    "tags": []
   },
   "outputs": [
    {
     "data": {
      "application/vnd.jupyter.widget-view+json": {
       "model_id": "cd7e737fc5804ea4a59e105c14048cbc",
       "version_major": 2,
       "version_minor": 0
      },
      "text/plain": [
       "Loading checkpoint shards:   0%|          | 0/3 [00:00<?, ?it/s]"
      ]
     },
     "metadata": {},
     "output_type": "display_data"
    }
   ],
   "source": [
    "model = \"../input/llama-2/pytorch/13b-chat-hf/1\"\n",
    "MODEL_NAME = model\n",
    "\n",
    "# 創建一個BitsAndBytesConfig配置對象，設定為4位量化，使用雙重量化，量化類型設為nf4，計算數據類型設為torch.bfloat16\n",
    "bnb_config = BitsAndBytesConfig(\n",
    "    load_in_4bit=True,  # 啟用4位量化加載\n",
    "    bnb_4bit_use_double_quant=True,  # 啟用雙重量化\n",
    "    bnb_4bit_quant_type=\"nf4\",  # 設定量化類型為nf4\n",
    "    bnb_4bit_compute_dtype=torch.bfloat16  # 設定計算時的數據類型為bfloat16\n",
    ")\n",
    "\n",
    "# 從預訓練的模型加載因果語言模型\n",
    "model = AutoModelForCausalLM.from_pretrained(\n",
    "    MODEL_NAME,  # 指定模型名稱（路徑）\n",
    "    device_map=\"auto\",  # 裝置映射設定為自動\n",
    "    trust_remote_code=True,  # 信任並執行遠端代碼\n",
    "    quantization_config=bnb_config  # 應用量化配置\n",
    ")\n",
    "\n",
    "# 加載與模型相對應的tokenizer\n",
    "tokenizer = AutoTokenizer.from_pretrained(MODEL_NAME)\n",
    "# 將tokenizer的pad_token設定為eos_token，通常用於處理序列長度不一致的情況\n",
    "tokenizer.pad_token = tokenizer.eos_token"
   ]
  },
  {
   "cell_type": "markdown",
   "id": "d15a750e",
   "metadata": {
    "papermill": {
     "duration": 0.016843,
     "end_time": "2023-09-18T16:54:58.404832",
     "exception": false,
     "start_time": "2023-09-18T16:54:58.387989",
     "status": "completed"
    },
    "tags": []
   },
   "source": [
    "Below, we'll use a nice PEFT wrapper to set up our model for training / fine-tuning. Specifically this function sets the output embedding layer to allow gradient updates, as well as performing some type casting on various components to ensure the model is ready to be updated."
   ]
  },
  {
   "cell_type": "code",
   "execution_count": 4,
   "id": "d997b9d6",
   "metadata": {
    "execution": {
     "iopub.execute_input": "2023-09-18T16:54:58.440262Z",
     "iopub.status.busy": "2023-09-18T16:54:58.439719Z",
     "iopub.status.idle": "2023-09-18T16:54:58.473973Z",
     "shell.execute_reply": "2023-09-18T16:54:58.472918Z"
    },
    "id": "na8DUq4IoqpB",
    "papermill": {
     "duration": 0.055899,
     "end_time": "2023-09-18T16:54:58.476578",
     "exception": false,
     "start_time": "2023-09-18T16:54:58.420679",
     "status": "completed"
    },
    "tags": []
   },
   "outputs": [],
   "source": [
    "model = prepare_model_for_kbit_training(model)"
   ]
  },
  {
   "cell_type": "markdown",
   "id": "325246e0",
   "metadata": {
    "papermill": {
     "duration": 0.010767,
     "end_time": "2023-09-18T16:54:58.500580",
     "exception": false,
     "start_time": "2023-09-18T16:54:58.489813",
     "status": "completed"
    },
    "tags": []
   },
   "source": [
    "Below, we define some helper functions - their purpose is to properly identify our update layers so we can... update them!"
   ]
  },
  {
   "cell_type": "code",
   "execution_count": 5,
   "id": "91718844",
   "metadata": {
    "execution": {
     "iopub.execute_input": "2023-09-18T16:54:58.524791Z",
     "iopub.status.busy": "2023-09-18T16:54:58.524283Z",
     "iopub.status.idle": "2023-09-18T16:54:58.534776Z",
     "shell.execute_reply": "2023-09-18T16:54:58.533587Z"
    },
    "papermill": {
     "duration": 0.025972,
     "end_time": "2023-09-18T16:54:58.537887",
     "exception": false,
     "start_time": "2023-09-18T16:54:58.511915",
     "status": "completed"
    },
    "tags": []
   },
   "outputs": [],
   "source": [
    "import re  # 導入正則表達式模塊\n",
    "\n",
    "def get_num_layers(model):  # 定義函數，用於獲取模型中層的最大編號\n",
    "    numbers = set()  # 創建一個空集合，用於儲存所有層的編號\n",
    "    for name, _ in model.named_parameters():  # 遍歷模型的所有參數\n",
    "        for number in re.findall(r'\\d+', name):  # 使用正則表達式查找名稱中的所有數字\n",
    "            numbers.add(int(number))  # 將找到的數字轉換為整型後添加到集合中\n",
    "    return max(numbers)  # 返回集合中的最大值\n",
    "\n",
    "def get_last_layer_linears(model):  # 定義函數，用於獲取最後一層中所有線性層的名稱\n",
    "    names = []  # 創建一個空列表，用於儲存名稱\n",
    "    \n",
    "    num_layers = get_num_layers(model)  # 調用前面的函數，獲取模型中層的最大編號\n",
    "    for name, module in model.named_modules():  # 遍歷模型的所有模塊\n",
    "        if str(num_layers) in name and not \"encoder\" in name:  # 如果模塊名稱包含最大層編號且不包含\"encoder\"\n",
    "            if isinstance(module, torch.nn.Linear):  # 檢查模塊是否為線性層\n",
    "                names.append(name)  # 將符合條件的模塊名稱添加到列表中\n",
    "    return names  # 返回名稱列表\n"
   ]
  },
  {
   "cell_type": "markdown",
   "id": "44928cfc",
   "metadata": {
    "papermill": {
     "duration": 0.011231,
     "end_time": "2023-09-18T16:54:58.561245",
     "exception": false,
     "start_time": "2023-09-18T16:54:58.550014",
     "status": "completed"
    },
    "tags": []
   },
   "source": [
    "## LORA config\n",
    "\n",
    "Some key elements from this configuration:\n",
    "1. `r` is the width of the small update layer. In theory, this should be set wide enough to capture the complexity of the problem you're attempting to fine-tune for. More simple problems may be able to get away with smaller `r`. In our case, we'll go very small, largely for the sake of speed.\n",
    "2. `target_modules` is set using our helper functions - every layer identified by that function will be included in the PEFT update."
   ]
  },
  {
   "cell_type": "code",
   "execution_count": 6,
   "id": "7f709356",
   "metadata": {
    "execution": {
     "iopub.execute_input": "2023-09-18T16:54:58.585485Z",
     "iopub.status.busy": "2023-09-18T16:54:58.585028Z",
     "iopub.status.idle": "2023-09-18T16:55:02.161267Z",
     "shell.execute_reply": "2023-09-18T16:55:02.160263Z"
    },
    "id": "C4Qk3fGLoraw",
    "papermill": {
     "duration": 3.591136,
     "end_time": "2023-09-18T16:55:02.163828",
     "exception": false,
     "start_time": "2023-09-18T16:54:58.572692",
     "status": "completed"
    },
    "tags": []
   },
   "outputs": [],
   "source": [
    "# 初始化LoRA配置，設定參數以適配特定的模型結構和任務\n",
    "config = LoraConfig(\n",
    "    r=2,  # 設定LoRA的秩為2，意味將Lora微調矩陣維度從原本mxn矩陣變成 m*r & r*n\n",
    "    lora_alpha=32,  # LoRA的放大因子，控制可訓練參數的規模\n",
    "    target_modules=get_last_layer_linears(model),  # 指定目標模塊為模型的最後一層線性層\n",
    "    lora_dropout=0.05,  # 設定LoRA層的dropout率為0.05，以防過擬合\n",
    "    bias=\"none\",  # 指定不使用偏置項\n",
    "    task_type=\"CAUSAL_LM\"  # 指定任務類型為因果語言模型（Causal Language Model）\n",
    ")\n",
    "\n",
    "# 使用指定的LoRA配置更新模型，這一步通常包括添加或修改模型中的參數以適應LoRA設置\n",
    "model = get_peft_model(model, config)\n"
   ]
  },
  {
   "cell_type": "markdown",
   "id": "8c502ea8",
   "metadata": {
    "papermill": {
     "duration": 0.007987,
     "end_time": "2023-09-18T16:55:02.180031",
     "exception": false,
     "start_time": "2023-09-18T16:55:02.172044",
     "status": "completed"
    },
    "tags": []
   },
   "source": [
    "## Load some data\n",
    "\n",
    "Here, we're loading a 200,000 question Jeopardy dataset. In the interests of time we won't load all of them - just the first 1000 - but we'll fine-tune our model using the question and answers. Note that what we're training the model to do is use its existing knowledge (plus whatever little it learns from our question-answer pairs) to answer questions in the *format* we want, specifically short answers."
   ]
  },
  {
   "cell_type": "code",
   "execution_count": 7,
   "id": "e8b8e9a3",
   "metadata": {
    "execution": {
     "iopub.execute_input": "2023-09-18T16:55:02.198084Z",
     "iopub.status.busy": "2023-09-18T16:55:02.197108Z",
     "iopub.status.idle": "2023-09-18T16:55:02.274501Z",
     "shell.execute_reply": "2023-09-18T16:55:02.273630Z"
    },
    "papermill": {
     "duration": 0.088823,
     "end_time": "2023-09-18T16:55:02.276832",
     "exception": false,
     "start_time": "2023-09-18T16:55:02.188009",
     "status": "completed"
    },
    "tags": []
   },
   "outputs": [],
   "source": [
    "df = pd.read_csv(\"../input/QA.csv\", nrows=1000)\n",
    "df.columns = [str(q).strip() for q in df.columns]\n",
    "\n",
    "data = Dataset.from_pandas(df)"
   ]
  },
  {
   "cell_type": "code",
   "execution_count": 1,
   "id": "37deb163",
   "metadata": {},
   "outputs": [
    {
     "data": {
      "image/png": "[encoded data removed]",
      "text/plain": [
       "<IPython.core.display.Image object>"
      ]
     },
     "execution_count": 1,
     "metadata": {},
     "output_type": "execute_result"
    }
   ],
   "source": [
    "from IPython.display import Image\n",
    "Image('../QA dataset.png')"
   ]
  },
  {
   "cell_type": "code",
   "execution_count": 8,
   "id": "bfd405d1",
   "metadata": {
    "execution": {
     "iopub.execute_input": "2023-09-18T16:55:02.294098Z",
     "iopub.status.busy": "2023-09-18T16:55:02.293780Z",
     "iopub.status.idle": "2023-09-18T16:55:02.300467Z",
     "shell.execute_reply": "2023-09-18T16:55:02.299610Z"
    },
    "papermill": {
     "duration": 0.018184,
     "end_time": "2023-09-18T16:55:02.302815",
     "exception": false,
     "start_time": "2023-09-18T16:55:02.284631",
     "status": "completed"
    },
    "tags": []
   },
   "outputs": [
    {
     "data": {
      "text/plain": [
       "array([\"For the last 8 years of his life, Galileo was under house arrest for espousing this man's theory\",\n",
       "       'No. 2: 1912 Olympian; football star at Carlisle Indian School; 6 MLB seasons with the Reds, Giants & Braves',\n",
       "       'The city of Yuma in this state has a record average of 4,055 hours of sunshine each year',\n",
       "       'In 1963, live on \"The Art Linkletter Show\", this company served its billionth burger',\n",
       "       'Signer of the Dec. of Indep., framer of the Constitution of Mass., second President of the United States'],\n",
       "      dtype=object)"
      ]
     },
     "execution_count": 8,
     "metadata": {},
     "output_type": "execute_result"
    }
   ],
   "source": [
    "df[\"Question\"].values[0:5]"
   ]
  },
  {
   "cell_type": "code",
   "execution_count": 9,
   "id": "75bcac21",
   "metadata": {
    "execution": {
     "iopub.execute_input": "2023-09-18T16:55:02.320958Z",
     "iopub.status.busy": "2023-09-18T16:55:02.319554Z",
     "iopub.status.idle": "2023-09-18T16:55:02.327242Z",
     "shell.execute_reply": "2023-09-18T16:55:02.326416Z"
    },
    "id": "_Pb9RA5NovNS",
    "papermill": {
     "duration": 0.018571,
     "end_time": "2023-09-18T16:55:02.329403",
     "exception": false,
     "start_time": "2023-09-18T16:55:02.310832",
     "status": "completed"
    },
    "tags": []
   },
   "outputs": [
    {
     "data": {
      "text/plain": [
       "\"For the last 8 years of his life, Galileo was under house arrest for espousing this man's theory. Answer as briefly as possible:\""
      ]
     },
     "execution_count": 9,
     "metadata": {},
     "output_type": "execute_result"
    }
   ],
   "source": [
    "prompt = df[\"Question\"].values[0] + \". Answer as briefly as possible: \".strip()\n",
    "prompt"
   ]
  },
  {
   "cell_type": "markdown",
   "id": "80b728c9",
   "metadata": {
    "id": "VHYgWlyvwy4E",
    "papermill": {
     "duration": 0.007846,
     "end_time": "2023-09-18T16:55:02.345278",
     "exception": false,
     "start_time": "2023-09-18T16:55:02.337432",
     "status": "completed"
    },
    "tags": []
   },
   "source": [
    "## Let's generate!\n",
    "\n",
    "Below we're setting up our generative model:\n",
    "- Top P: a method for choosing from among a selection of most probable outputs, as opposed to greedily just taking the highest)\n",
    "- Temperature: a modulation on the softmax function used to determine the values of our outputs\n",
    "- We limit the return sequences to 1 - only one answer is allowed! - and deliberately force the answer to be short."
   ]
  },
  {
   "cell_type": "code",
   "execution_count": 10,
   "id": "fa3c1592",
   "metadata": {
    "execution": {
     "iopub.execute_input": "2023-09-18T16:55:02.362406Z",
     "iopub.status.busy": "2023-09-18T16:55:02.362130Z",
     "iopub.status.idle": "2023-09-18T16:55:02.366722Z",
     "shell.execute_reply": "2023-09-18T16:55:02.365849Z"
    },
    "id": "YiqCdCD2oyPH",
    "papermill": {
     "duration": 0.015462,
     "end_time": "2023-09-18T16:55:02.368705",
     "exception": false,
     "start_time": "2023-09-18T16:55:02.353243",
     "status": "completed"
    },
    "tags": []
   },
   "outputs": [],
   "source": [
    "# 從模型中獲取預設的文本生成配置。這包含了一組用於控制生成行為的默認設置。\n",
    "generation_config = model.generation_config\n",
    "\n",
    "generation_config.max_new_tokens = 10 # 設置最大新生成的token數量為10。這意味著在生成文本時，最多會新增10個token，以限制輸出文本的長度。\n",
    "generation_config.temperature = 0.7   # 設置生成的溫度為0.7。溫度用於控制生成過程中的隨機性。溫度較低（小於1）會讓模型更有可能選擇高概率的詞，使生成的文本更加確定性和一致性。\n",
    "generation_config.top_p = 0.7        # 設置top-p採樣（或稱為nucleus sampling）的p值為0.7。這種採樣策略僅考慮累計概率超過p值的最小集合的詞。這有助於生成多樣化的文本，同時避免不太可能的詞的選擇。\n",
    "generation_config.num_return_sequences = 1    # 設置生成的序列數為1。這表示每次調用生成函數時，將只返回一個生成的序列。\n",
    "generation_config.pad_token_id = tokenizer.eos_token_id  # 將填充token的ID設置為模型的終止符（eos）token的ID。在生成文本時，如果生成的token數量少於max_new_tokens，則使用此ID作為填充。\n",
    "generation_config.eos_token_id = tokenizer.eos_token_id  # 將終止生成的token的ID設置為模型的終止符（eos）token的ID。當模型生成了此ID的token時，將停止生成進一步的token，表示生成的文本已經結束。"
   ]
  },
  {
   "cell_type": "markdown",
   "id": "22e7c475",
   "metadata": {
    "papermill": {
     "duration": 0.008062,
     "end_time": "2023-09-18T16:55:02.384673",
     "exception": false,
     "start_time": "2023-09-18T16:55:02.376611",
     "status": "completed"
    },
    "tags": []
   },
   "source": [
    "Now, we'll generate an answer to our first question, just to see how the model does!\n",
    "\n",
    "It's fascinatingly wrong. :-)"
   ]
  },
  {
   "cell_type": "code",
   "execution_count": 11,
   "id": "4440925b",
   "metadata": {
    "execution": {
     "iopub.execute_input": "2023-09-18T16:55:02.402581Z",
     "iopub.status.busy": "2023-09-18T16:55:02.402292Z",
     "iopub.status.idle": "2023-09-18T16:55:14.617262Z",
     "shell.execute_reply": "2023-09-18T16:55:14.615273Z"
    },
    "id": "o2ELFG0no1xR",
    "papermill": {
     "duration": 12.226592,
     "end_time": "2023-09-18T16:55:14.619936",
     "exception": false,
     "start_time": "2023-09-18T16:55:02.393344",
     "status": "completed"
    },
    "tags": []
   },
   "outputs": [
    {
     "name": "stdout",
     "output_type": "stream",
     "text": [
      "For the last 8 years of his life, Galileo was under house arrest for espousing this man's theory. Answer as briefly as possible:\n",
      "\n",
      "Who was the man whose theory Galile\n",
      "CPU times: user 9.5 s, sys: 572 ms, total: 10.1 s\n",
      "Wall time: 12.2 s\n"
     ]
    }
   ],
   "source": [
    "%%time\n",
    "# 這行是一個Jupyter Notebook的魔法命令，用於測量整個單元格內代碼執行的時間。\n",
    "\n",
    "device = \"cuda\"\n",
    "# 將device設定為\"cuda\"，意味著如果可能的話，將使用NVIDIA的CUDA技術來加速計算。這通常表示代碼將在GPU上執行以提高速度。\n",
    "\n",
    "encoding = tokenizer(prompt, return_tensors=\"pt\").to(device)\n",
    "# 使用tokenizer對輸入文本（prompt）進行編碼。return_tensors=\"pt\"表示返回的是PyTorch張量格式。\n",
    "# .to(device)將編碼後的數據移動到指定的設備上（在這裡是GPU）。\n",
    "\n",
    "with torch.no_grad():\n",
    "    # 使用torch.no_grad()來禁用梯度計算，這在推理時是有用的，因為它減少了內存使用量並加速了計算過程。\n",
    "    outputs = model.generate(\n",
    "        input_ids = encoding.input_ids,\n",
    "        attention_mask = encoding.attention_mask,\n",
    "        generation_config = generation_config\n",
    "    )\n",
    "    # 調用模型的generate方法來生成文本。input_ids和attention_mask是編碼後的輸入數據，\n",
    "    # generation_config是一組控制生成過程的參數，例如最大生成長度、溫度等。\n",
    "\n",
    "print(tokenizer.decode(outputs[0], skip_special_tokens=True))\n",
    "# 使用tokenizer的decode方法將生成的輸出張量（outputs[0]）解碼成文本。\n",
    "# skip_special_tokens=True參數告訴解碼器忽略任何特殊的控制符號，如終止符、填充符等。"
   ]
  },
  {
   "cell_type": "markdown",
   "id": "1dac0a34",
   "metadata": {
    "id": "QAe7n7T4jP-D",
    "papermill": {
     "duration": 0.056798,
     "end_time": "2023-09-18T16:55:14.685241",
     "exception": false,
     "start_time": "2023-09-18T16:55:14.628443",
     "status": "completed"
    },
    "tags": []
   },
   "source": [
    "## Format our fine-tuning data\n",
    "\n",
    "We'll match the prompt setup we used above."
   ]
  },
  {
   "cell_type": "code",
   "execution_count": 12,
   "id": "ab9239f0",
   "metadata": {
    "execution": {
     "iopub.execute_input": "2023-09-18T16:55:14.705798Z",
     "iopub.status.busy": "2023-09-18T16:55:14.705412Z",
     "iopub.status.idle": "2023-09-18T16:55:15.414052Z",
     "shell.execute_reply": "2023-09-18T16:55:15.412490Z"
    },
    "id": "lm60o2_No7Jz",
    "papermill": {
     "duration": 0.720782,
     "end_time": "2023-09-18T16:55:15.416525",
     "exception": false,
     "start_time": "2023-09-18T16:55:14.695743",
     "status": "completed"
    },
    "tags": []
   },
   "outputs": [
    {
     "data": {
      "application/vnd.jupyter.widget-view+json": {
       "model_id": "f71d099cb4a6444c83f75442215f2cc1",
       "version_major": 2,
       "version_minor": 0
      },
      "text/plain": [
       "Map:   0%|          | 0/1000 [00:00<?, ? examples/s]"
      ]
     },
     "metadata": {},
     "output_type": "display_data"
    },
    {
     "name": "stderr",
     "output_type": "stream",
     "text": [
      "Asking to truncate to max_length but no maximum length is provided and the model has no predefined maximum length. Default to no truncation.\n"
     ]
    }
   ],
   "source": [
    "def generate_prompt(data_point):\n",
    "    # 這個函數接受一個數據點（data_point），並根據該數據點的\"Question\"和\"Answer\"字段生成一個提示文本。\n",
    "    # 生成的提示文本格式為：\"問題文本. 答案盡可能簡短: 答案文本\"。\n",
    "    return f\"\"\"\n",
    "            {data_point[\"Question\"]}. \n",
    "            Answer as briefly as possible: {data_point[\"Answer\"]}\n",
    "            \"\"\".strip()  # strip()函數用於移除字符串開頭和結尾的空白字符。\n",
    "\n",
    "def generate_and_tokenize_prompt(data_point):\n",
    "    # 這個函數首先調用generate_prompt函數生成提示文本，然後使用tokenizer對該文本進行分詞和編碼。\n",
    "    full_prompt = generate_prompt(data_point)  # 生成提示文本。\n",
    "    tokenized_full_prompt = tokenizer(full_prompt, padding=True, truncation=True)\n",
    "    # 使用tokenizer進行分詞和編碼，其中padding=True表示將所有序列補齊到同一長度，\n",
    "    # truncation=True表示超過最大長度限制的序列將被截斷。\n",
    "    return tokenized_full_prompt  # 返回分詞後的結果。\n",
    "\n",
    "data = data.shuffle().map(generate_and_tokenize_prompt)\n",
    "# 對數據集data進行隨機打亂(shuffle)，然後使用map函數對每一個數據點應用generate_and_tokenize_prompt函數。\n",
    "# 這意味著每個數據點都會被轉換成一個根據其\"Question\"和\"Answer\"生成的提示文本，並且該文本會被分詞和編碼。"
   ]
  },
  {
   "cell_type": "markdown",
   "id": "a6af9c02",
   "metadata": {
    "id": "QCrTXUqXk0S9",
    "papermill": {
     "duration": 0.008645,
     "end_time": "2023-09-18T16:55:15.434376",
     "exception": false,
     "start_time": "2023-09-18T16:55:15.425731",
     "status": "completed"
    },
    "tags": []
   },
   "source": [
    "## Train!\n",
    "\n",
    "Now, we'll use our data to update our model. Using the Huggingface `transformers` library, let's set up our training loop and then run it. Note that we are ONLY making one pass on all this data."
   ]
  },
  {
   "cell_type": "code",
   "execution_count": 13,
   "id": "b93edecd",
   "metadata": {
    "execution": {
     "iopub.execute_input": "2023-09-18T16:55:15.453312Z",
     "iopub.status.busy": "2023-09-18T16:55:15.453012Z",
     "iopub.status.idle": "2023-09-18T17:38:42.519415Z",
     "shell.execute_reply": "2023-09-18T17:38:42.518387Z"
    },
    "id": "PGneIe1xpUJV",
    "outputId": "8cdac9ac-d6bf-4d8f-b954-febf7f140591",
    "papermill": {
     "duration": 2607.078486,
     "end_time": "2023-09-18T17:38:42.521639",
     "exception": false,
     "start_time": "2023-09-18T16:55:15.443153",
     "status": "completed"
    },
    "tags": []
   },
   "outputs": [
    {
     "name": "stderr",
     "output_type": "stream",
     "text": [
      "You're using a LlamaTokenizerFast tokenizer. Please note that with a fast tokenizer, using the `__call__` method is faster than using a method to encode the text followed by a call to the `pad` method to get a padded encoding.\n"
     ]
    },
    {
     "data": {
      "text/html": [
       "\n",
       "    <div>\n",
       "      \n",
       "      <progress value='250' max='250' style='width:300px; height:20px; vertical-align: middle;'></progress>\n",
       "      [250/250 43:16, Epoch 1/1]\n",
       "    </div>\n",
       "    <table border=\"1\" class=\"dataframe\">\n",
       "  <thead>\n",
       " <tr style=\"text-align: left;\">\n",
       "      <th>Step</th>\n",
       "      <th>Training Loss</th>\n",
       "    </tr>\n",
       "  </thead>\n",
       "  <tbody>\n",
       "  </tbody>\n",
       "</table><p>"
      ],
      "text/plain": [
       "<IPython.core.display.HTML object>"
      ]
     },
     "metadata": {},
     "output_type": "display_data"
    },
    {
     "data": {
      "text/plain": [
       "TrainOutput(global_step=250, training_loss=2.239737060546875, metrics={'train_runtime': 2606.7738, 'train_samples_per_second': 0.384, 'train_steps_per_second': 0.096, 'total_flos': 1513929861881856.0, 'train_loss': 2.239737060546875, 'epoch': 1.0})"
      ]
     },
     "execution_count": 13,
     "metadata": {},
     "output_type": "execute_result"
    }
   ],
   "source": [
    "# 初始化TrainingArguments對象，配置模型訓練的各項參數。\n",
    "training_args = transformers.TrainingArguments(\n",
    "    per_device_train_batch_size=1,  # 每個設備的訓練批次大小設為1。\n",
    "    gradient_accumulation_steps=4,  # 梯度累積步數設為4，這意味著每4個批次進行一次梯度更新。\n",
    "    num_train_epochs=5,  # 設置訓練週期數為5。\n",
    "    learning_rate=1e-2,  # 設置學習率為0.01。\n",
    "    fp16=True,  # 啟用混合精度訓練，以提高訓練速度並節省記憶體。\n",
    "    output_dir=\"finetune_dir\",  # 指定輸出目錄為\"finetune_dir\"。\n",
    "    optim=\"paged_adamw_8bit\",  # 使用8位優化器\"paged_adamw_8bit\"以進一步提高訓練效率。\n",
    "    lr_scheduler_type=\"cosine\",  # 使用\"cosine\"學習率調度器。\n",
    "    warmup_ratio=0.01,  # 設置預熱比例為0.01，即訓練初期學習率逐漸提高至設定值的過程佔總訓練時間的1%。\n",
    "    report_to=\"none\"  # 設置不報告訓練指標到任何外部服務。\n",
    ")\n",
    "\n",
    "# 初始化Trainer對象，配置模型、訓練數據集、訓練參數和數據整理器。\n",
    "trainer = transformers.Trainer(\n",
    "    model=model,  # 指定要訓練的模型。\n",
    "    train_dataset=data,  # 指定訓練數據集。\n",
    "    args=training_args,  # 傳入前面定義的訓練參數。\n",
    "    data_collator=transformers.DataCollatorForLanguageModeling(tokenizer, mlm=False)\n",
    "    # 使用DataCollatorForLanguageModeling數據整理器，並設置mask語言模型(mlm)為False，適用於因果語言模型的訓練。\n",
    ")\n",
    "model.config.use_cache = False  # 禁用模型快取，以減少訓練過程中的記憶體消耗。\n",
    "\n",
    "trainer.train()  # 開始訓練模型。"
   ]
  },
  {
   "cell_type": "markdown",
   "id": "3a0efd36",
   "metadata": {
    "papermill": {
     "duration": 0.010337,
     "end_time": "2023-09-18T17:38:42.560932",
     "exception": false,
     "start_time": "2023-09-18T17:38:42.550595",
     "status": "completed"
    },
    "tags": []
   },
   "source": [
    "## Loading and using the model later\n",
    "\n",
    "Now, we'll save the PEFT fine-tuned model, then load it and use it to generate some more answers."
   ]
  },
  {
   "cell_type": "code",
   "execution_count": 14,
   "id": "d6217c45",
   "metadata": {
    "execution": {
     "iopub.execute_input": "2023-09-18T17:38:42.581938Z",
     "iopub.status.busy": "2023-09-18T17:38:42.581021Z",
     "iopub.status.idle": "2023-09-18T17:43:59.655894Z",
     "shell.execute_reply": "2023-09-18T17:43:59.654720Z"
    },
    "id": "Vmce-aSesAHV",
    "outputId": "4bf93e78-2a0b-404c-8b05-3748db1bdc52",
    "papermill": {
     "duration": 317.089188,
     "end_time": "2023-09-18T17:43:59.660089",
     "exception": false,
     "start_time": "2023-09-18T17:38:42.570901",
     "status": "completed"
    },
    "tags": []
   },
   "outputs": [
    {
     "data": {
      "application/vnd.jupyter.widget-view+json": {
       "model_id": "f682dfaba437476ebe9118005bc00460",
       "version_major": 2,
       "version_minor": 0
      },
      "text/plain": [
       "Loading checkpoint shards:   0%|          | 0/3 [00:00<?, ?it/s]"
      ]
     },
     "metadata": {},
     "output_type": "display_data"
    }
   ],
   "source": [
    "model.save_pretrained(\"trained-model\")\n",
    "\n",
    "PEFT_MODEL = \"../working/trained-model\"\n",
    "\n",
    "config = PeftConfig.from_pretrained(PEFT_MODEL)\n",
    "model = AutoModelForCausalLM.from_pretrained(\n",
    "    config.base_model_name_or_path,\n",
    "    return_dict=True,\n",
    "    quantization_config=bnb_config,\n",
    "    device_map=\"auto\",\n",
    "    trust_remote_code=True\n",
    ")\n",
    "\n",
    "tokenizer=AutoTokenizer.from_pretrained(config.base_model_name_or_path)\n",
    "tokenizer.pad_token = tokenizer.eos_token\n",
    "\n",
    "model = PeftModel.from_pretrained(model, PEFT_MODEL)"
   ]
  },
  {
   "cell_type": "code",
   "execution_count": 15,
   "id": "305b3810",
   "metadata": {
    "execution": {
     "iopub.execute_input": "2023-09-18T17:43:59.682557Z",
     "iopub.status.busy": "2023-09-18T17:43:59.682197Z",
     "iopub.status.idle": "2023-09-18T17:43:59.688008Z",
     "shell.execute_reply": "2023-09-18T17:43:59.686950Z"
    },
    "id": "vgIHyPUasD0b",
    "papermill": {
     "duration": 0.019602,
     "end_time": "2023-09-18T17:43:59.690365",
     "exception": false,
     "start_time": "2023-09-18T17:43:59.670763",
     "status": "completed"
    },
    "tags": []
   },
   "outputs": [],
   "source": [
    "generation_config = model.generation_config\n",
    "generation_config.max_new_tokens = 10\n",
    "generation_config.temperature = 0.7\n",
    "generation_config.top_p = 0.7\n",
    "generation_config.num_return_sequences = 1\n",
    "generation_config.pad_token_id = tokenizer.eos_token_id\n",
    "generation_config.eos_token_id = tokenizer.eos_token_id"
   ]
  },
  {
   "cell_type": "code",
   "execution_count": 17,
   "id": "f26b30b6",
   "metadata": {
    "execution": {
     "iopub.execute_input": "2023-09-18T17:43:59.739678Z",
     "iopub.status.busy": "2023-09-18T17:43:59.739340Z",
     "iopub.status.idle": "2023-09-18T17:44:07.320458Z",
     "shell.execute_reply": "2023-09-18T17:44:07.317902Z"
    },
    "id": "63Zxai-isGhJ",
    "papermill": {
     "duration": 7.594129,
     "end_time": "2023-09-18T17:44:07.322918",
     "exception": false,
     "start_time": "2023-09-18T17:43:59.728789",
     "status": "completed"
    },
    "tags": []
   },
   "outputs": [
    {
     "name": "stdout",
     "output_type": "stream",
     "text": [
      "In which sport are barani, rudolph, and randolph all techniques?. Answer as briefly as possible: basketball. \n",
      "            Answer as briefly as possible\n",
      "CPU times: user 7.47 s, sys: 21 ms, total: 7.49 s\n",
      "Wall time: 7.57 s\n"
     ]
    }
   ],
   "source": [
    "%%time\n",
    "\n",
    "prompt = \"In which sport are barani, rudolph, and randolph all techniques?. Answer as briefly as possible: \".strip()\n",
    "\n",
    "device = \"cuda\"\n",
    "encoding = tokenizer(prompt, return_tensors=\"pt\").to(device)\n",
    "with torch.inference_mode():\n",
    "  outputs = model.generate(\n",
    "      input_ids = encoding.input_ids,\n",
    "      attention_mask = encoding.attention_mask,\n",
    "      generation_config = generation_config\n",
    "  )\n",
    "\n",
    "print(tokenizer.decode(outputs[0], skip_special_tokens=True))"
   ]
  },
  {
   "cell_type": "markdown",
   "id": "888b8870",
   "metadata": {},
   "source": [
    "## Next Step\n",
    "* How to evaluate model performance on test dataset?"
   ]
  },
  {
   "cell_type": "markdown",
   "id": "1d92929c",
   "metadata": {},
   "source": [
    "## Reference\n",
    "* [LoRA](https://zhuanlan.zhihu.com/p/673058387)\n",
    "* [LoRA config](https://ithelp.ithome.com.tw/m/articles/10336491)\n",
    "* [QLoRA](https://zhuanlan.zhihu.com/p/673765062)"
   ]
  }
 ],
 "metadata": {
  "kernelspec": {
   "display_name": "Python 3",
   "language": "python",
   "name": "python3"
  },
  "language_info": {
   "codemirror_mode": {
    "name": "ipython",
    "version": 3
   },
   "file_extension": ".py",
   "mimetype": "text/x-python",
   "name": "python",
   "nbconvert_exporter": "python",
   "pygments_lexer": "ipython3",
   "version": "3.8.13"
  },
  "papermill": {
   "default_parameters": {},
   "duration": 3613.228788,
   "end_time": "2023-09-18T17:44:10.878175",
   "environment_variables": {},
   "exception": null,
   "input_path": "__notebook__.ipynb",
   "output_path": "__notebook__.ipynb",
   "parameters": {},
   "start_time": "2023-09-18T16:43:57.649387",
   "version": "2.4.0"
  },
  "widgets": {
   "application/vnd.jupyter.widget-state+json": {
    "state": {
     "0d26b18f090f48ae972f0be5589adc7e": {
      "model_module": "@jupyter-widgets/base",
      "model_module_version": "1.2.0",
      "model_name": "LayoutModel",
      "state": {
       "_model_module": "@jupyter-widgets/base",
       "_model_module_version": "1.2.0",
       "_model_name": "LayoutModel",
       "_view_count": null,
       "_view_module": "@jupyter-widgets/base",
       "_view_module_version": "1.2.0",
       "_view_name": "LayoutView",
       "align_content": null,
       "align_items": null,
       "align_self": null,
       "border": null,
       "bottom": null,
       "display": null,
       "flex": null,
       "flex_flow": null,
       "grid_area": null,
       "grid_auto_columns": null,
       "grid_auto_flow": null,
       "grid_auto_rows": null,
       "grid_column": null,
       "grid_gap": null,
       "grid_row": null,
       "grid_template_areas": null,
       "grid_template_columns": null,
       "grid_template_rows": null,
       "height": null,
       "justify_content": null,
       "justify_items": null,
       "left": null,
       "margin": null,
       "max_height": null,
       "max_width": null,
       "min_height": null,
       "min_width": null,
       "object_fit": null,
       "object_position": null,
       "order": null,
       "overflow": null,
       "overflow_x": null,
       "overflow_y": null,
       "padding": null,
       "right": null,
       "top": null,
       "visibility": null,
       "width": null
      }
     },
     "1c21019d5056465e825772b9393176e5": {
      "model_module": "@jupyter-widgets/controls",
      "model_module_version": "1.5.0",
      "model_name": "FloatProgressModel",
      "state": {
       "_dom_classes": [],
       "_model_module": "@jupyter-widgets/controls",
       "_model_module_version": "1.5.0",
       "_model_name": "FloatProgressModel",
       "_view_count": null,
       "_view_module": "@jupyter-widgets/controls",
       "_view_module_version": "1.5.0",
       "_view_name": "ProgressView",
       "bar_style": "success",
       "description": "",
       "description_tooltip": null,
       "layout": "IPY_MODEL_f2ec8fc6a8924c71939fdaeeb1304726",
       "max": 3,
       "min": 0,
       "orientation": "horizontal",
       "style": "IPY_MODEL_6d57d1f3e02b40c98dc8d4d8fffd16df",
       "value": 3
      }
     },
     "2f1d03880de54e239c8593f8af97b43a": {
      "model_module": "@jupyter-widgets/controls",
      "model_module_version": "1.5.0",
      "model_name": "HTMLModel",
      "state": {
       "_dom_classes": [],
       "_model_module": "@jupyter-widgets/controls",
       "_model_module_version": "1.5.0",
       "_model_name": "HTMLModel",
       "_view_count": null,
       "_view_module": "@jupyter-widgets/controls",
       "_view_module_version": "1.5.0",
       "_view_name": "HTMLView",
       "description": "",
       "description_tooltip": null,
       "layout": "IPY_MODEL_841cdca5d7a64db8aab272915c7a0c05",
       "placeholder": "​",
       "style": "IPY_MODEL_d51efb26a8924d9499bdce5feac566b2",
       "value": " 3/3 [05:15&lt;00:00, 99.46s/it]"
      }
     },
     "3109d80c6b844b5dba7572c2d877e00a": {
      "model_module": "@jupyter-widgets/controls",
      "model_module_version": "1.5.0",
      "model_name": "ProgressStyleModel",
      "state": {
       "_model_module": "@jupyter-widgets/controls",
       "_model_module_version": "1.5.0",
       "_model_name": "ProgressStyleModel",
       "_view_count": null,
       "_view_module": "@jupyter-widgets/base",
       "_view_module_version": "1.2.0",
       "_view_name": "StyleView",
       "bar_color": null,
       "description_width": ""
      }
     },
     "3ae9249e88c84c4f95f15af7f27e726a": {
      "model_module": "@jupyter-widgets/controls",
      "model_module_version": "1.5.0",
      "model_name": "FloatProgressModel",
      "state": {
       "_dom_classes": [],
       "_model_module": "@jupyter-widgets/controls",
       "_model_module_version": "1.5.0",
       "_model_name": "FloatProgressModel",
       "_view_count": null,
       "_view_module": "@jupyter-widgets/controls",
       "_view_module_version": "1.5.0",
       "_view_name": "ProgressView",
       "bar_style": "success",
       "description": "",
       "description_tooltip": null,
       "layout": "IPY_MODEL_6be71c126b2a420fb59213cdc5775ee0",
       "max": 3,
       "min": 0,
       "orientation": "horizontal",
       "style": "IPY_MODEL_cab373b861254e55ae78b9824046820d",
       "value": 3
      }
     },
     "482fbe6184d940fe8a9e2d3d59f0617a": {
      "model_module": "@jupyter-widgets/controls",
      "model_module_version": "1.5.0",
      "model_name": "HTMLModel",
      "state": {
       "_dom_classes": [],
       "_model_module": "@jupyter-widgets/controls",
       "_model_module_version": "1.5.0",
       "_model_name": "HTMLModel",
       "_view_count": null,
       "_view_module": "@jupyter-widgets/controls",
       "_view_module_version": "1.5.0",
       "_view_name": "HTMLView",
       "description": "",
       "description_tooltip": null,
       "layout": "IPY_MODEL_bc16c55bb5824dda83744b4a8f199181",
       "placeholder": "​",
       "style": "IPY_MODEL_842c6a4af9b343d08d137d3b2868850d",
       "value": "Loading checkpoint shards: 100%"
      }
     },
     "4b32a9a922124146a79e5a8fb3a0c3ba": {
      "model_module": "@jupyter-widgets/base",
      "model_module_version": "1.2.0",
      "model_name": "LayoutModel",
      "state": {
       "_model_module": "@jupyter-widgets/base",
       "_model_module_version": "1.2.0",
       "_model_name": "LayoutModel",
       "_view_count": null,
       "_view_module": "@jupyter-widgets/base",
       "_view_module_version": "1.2.0",
       "_view_name": "LayoutView",
       "align_content": null,
       "align_items": null,
       "align_self": null,
       "border": null,
       "bottom": null,
       "display": null,
       "flex": null,
       "flex_flow": null,
       "grid_area": null,
       "grid_auto_columns": null,
       "grid_auto_flow": null,
       "grid_auto_rows": null,
       "grid_column": null,
       "grid_gap": null,
       "grid_row": null,
       "grid_template_areas": null,
       "grid_template_columns": null,
       "grid_template_rows": null,
       "height": null,
       "justify_content": null,
       "justify_items": null,
       "left": null,
       "margin": null,
       "max_height": null,
       "max_width": null,
       "min_height": null,
       "min_width": null,
       "object_fit": null,
       "object_position": null,
       "order": null,
       "overflow": null,
       "overflow_x": null,
       "overflow_y": null,
       "padding": null,
       "right": null,
       "top": null,
       "visibility": null,
       "width": null
      }
     },
     "5ddd1e03ccc54efc98d24986dc993e36": {
      "model_module": "@jupyter-widgets/controls",
      "model_module_version": "1.5.0",
      "model_name": "HTMLModel",
      "state": {
       "_dom_classes": [],
       "_model_module": "@jupyter-widgets/controls",
       "_model_module_version": "1.5.0",
       "_model_name": "HTMLModel",
       "_view_count": null,
       "_view_module": "@jupyter-widgets/controls",
       "_view_module_version": "1.5.0",
       "_view_name": "HTMLView",
       "description": "",
       "description_tooltip": null,
       "layout": "IPY_MODEL_aedbb0983aad462cbde824184030a246",
       "placeholder": "​",
       "style": "IPY_MODEL_9fd7f0e432f041b5b91095dc5cc01665",
       "value": " 897/1000 [00:00&lt;00:00, 2000.80 examples/s]"
      }
     },
     "6be71c126b2a420fb59213cdc5775ee0": {
      "model_module": "@jupyter-widgets/base",
      "model_module_version": "1.2.0",
      "model_name": "LayoutModel",
      "state": {
       "_model_module": "@jupyter-widgets/base",
       "_model_module_version": "1.2.0",
       "_model_name": "LayoutModel",
       "_view_count": null,
       "_view_module": "@jupyter-widgets/base",
       "_view_module_version": "1.2.0",
       "_view_name": "LayoutView",
       "align_content": null,
       "align_items": null,
       "align_self": null,
       "border": null,
       "bottom": null,
       "display": null,
       "flex": null,
       "flex_flow": null,
       "grid_area": null,
       "grid_auto_columns": null,
       "grid_auto_flow": null,
       "grid_auto_rows": null,
       "grid_column": null,
       "grid_gap": null,
       "grid_row": null,
       "grid_template_areas": null,
       "grid_template_columns": null,
       "grid_template_rows": null,
       "height": null,
       "justify_content": null,
       "justify_items": null,
       "left": null,
       "margin": null,
       "max_height": null,
       "max_width": null,
       "min_height": null,
       "min_width": null,
       "object_fit": null,
       "object_position": null,
       "order": null,
       "overflow": null,
       "overflow_x": null,
       "overflow_y": null,
       "padding": null,
       "right": null,
       "top": null,
       "visibility": null,
       "width": null
      }
     },
     "6d462b6e739f46f7af1f02606b88ac90": {
      "model_module": "@jupyter-widgets/controls",
      "model_module_version": "1.5.0",
      "model_name": "HTMLModel",
      "state": {
       "_dom_classes": [],
       "_model_module": "@jupyter-widgets/controls",
       "_model_module_version": "1.5.0",
       "_model_name": "HTMLModel",
       "_view_count": null,
       "_view_module": "@jupyter-widgets/controls",
       "_view_module_version": "1.5.0",
       "_view_name": "HTMLView",
       "description": "",
       "description_tooltip": null,
       "layout": "IPY_MODEL_fa8abd8bf03e41d39ab071354a425f5a",
       "placeholder": "​",
       "style": "IPY_MODEL_c9c5dff3e7dc4a61a228049d1f54a791",
       "value": "Map:  90%"
      }
     },
     "6d57d1f3e02b40c98dc8d4d8fffd16df": {
      "model_module": "@jupyter-widgets/controls",
      "model_module_version": "1.5.0",
      "model_name": "ProgressStyleModel",
      "state": {
       "_model_module": "@jupyter-widgets/controls",
       "_model_module_version": "1.5.0",
       "_model_name": "ProgressStyleModel",
       "_view_count": null,
       "_view_module": "@jupyter-widgets/base",
       "_view_module_version": "1.2.0",
       "_view_name": "StyleView",
       "bar_color": null,
       "description_width": ""
      }
     },
     "748bb72a9d8c4ad8a16211c6dc93a14e": {
      "model_module": "@jupyter-widgets/controls",
      "model_module_version": "1.5.0",
      "model_name": "HTMLModel",
      "state": {
       "_dom_classes": [],
       "_model_module": "@jupyter-widgets/controls",
       "_model_module_version": "1.5.0",
       "_model_name": "HTMLModel",
       "_view_count": null,
       "_view_module": "@jupyter-widgets/controls",
       "_view_module_version": "1.5.0",
       "_view_name": "HTMLView",
       "description": "",
       "description_tooltip": null,
       "layout": "IPY_MODEL_e262c6005e4a4cceb66995d82def72e6",
       "placeholder": "​",
       "style": "IPY_MODEL_7795088fa4404ffd8d0492a9a944184f",
       "value": " 3/3 [05:12&lt;00:00, 98.60s/it]"
      }
     },
     "7795088fa4404ffd8d0492a9a944184f": {
      "model_module": "@jupyter-widgets/controls",
      "model_module_version": "1.5.0",
      "model_name": "DescriptionStyleModel",
      "state": {
       "_model_module": "@jupyter-widgets/controls",
       "_model_module_version": "1.5.0",
       "_model_name": "DescriptionStyleModel",
       "_view_count": null,
       "_view_module": "@jupyter-widgets/base",
       "_view_module_version": "1.2.0",
       "_view_name": "StyleView",
       "description_width": ""
      }
     },
     "7bd48978997441c3963556dc5957a882": {
      "model_module": "@jupyter-widgets/controls",
      "model_module_version": "1.5.0",
      "model_name": "FloatProgressModel",
      "state": {
       "_dom_classes": [],
       "_model_module": "@jupyter-widgets/controls",
       "_model_module_version": "1.5.0",
       "_model_name": "FloatProgressModel",
       "_view_count": null,
       "_view_module": "@jupyter-widgets/controls",
       "_view_module_version": "1.5.0",
       "_view_name": "ProgressView",
       "bar_style": "",
       "description": "",
       "description_tooltip": null,
       "layout": "IPY_MODEL_a10956c6408941218c725bc70dfd3614",
       "max": 1000,
       "min": 0,
       "orientation": "horizontal",
       "style": "IPY_MODEL_3109d80c6b844b5dba7572c2d877e00a",
       "value": 1000
      }
     },
     "7f56fcd52c3946b5bfeb1d6ea894009a": {
      "model_module": "@jupyter-widgets/base",
      "model_module_version": "1.2.0",
      "model_name": "LayoutModel",
      "state": {
       "_model_module": "@jupyter-widgets/base",
       "_model_module_version": "1.2.0",
       "_model_name": "LayoutModel",
       "_view_count": null,
       "_view_module": "@jupyter-widgets/base",
       "_view_module_version": "1.2.0",
       "_view_name": "LayoutView",
       "align_content": null,
       "align_items": null,
       "align_self": null,
       "border": null,
       "bottom": null,
       "display": null,
       "flex": null,
       "flex_flow": null,
       "grid_area": null,
       "grid_auto_columns": null,
       "grid_auto_flow": null,
       "grid_auto_rows": null,
       "grid_column": null,
       "grid_gap": null,
       "grid_row": null,
       "grid_template_areas": null,
       "grid_template_columns": null,
       "grid_template_rows": null,
       "height": null,
       "justify_content": null,
       "justify_items": null,
       "left": null,
       "margin": null,
       "max_height": null,
       "max_width": null,
       "min_height": null,
       "min_width": null,
       "object_fit": null,
       "object_position": null,
       "order": null,
       "overflow": null,
       "overflow_x": null,
       "overflow_y": null,
       "padding": null,
       "right": null,
       "top": null,
       "visibility": "hidden",
       "width": null
      }
     },
     "841cdca5d7a64db8aab272915c7a0c05": {
      "model_module": "@jupyter-widgets/base",
      "model_module_version": "1.2.0",
      "model_name": "LayoutModel",
      "state": {
       "_model_module": "@jupyter-widgets/base",
       "_model_module_version": "1.2.0",
       "_model_name": "LayoutModel",
       "_view_count": null,
       "_view_module": "@jupyter-widgets/base",
       "_view_module_version": "1.2.0",
       "_view_name": "LayoutView",
       "align_content": null,
       "align_items": null,
       "align_self": null,
       "border": null,
       "bottom": null,
       "display": null,
       "flex": null,
       "flex_flow": null,
       "grid_area": null,
       "grid_auto_columns": null,
       "grid_auto_flow": null,
       "grid_auto_rows": null,
       "grid_column": null,
       "grid_gap": null,
       "grid_row": null,
       "grid_template_areas": null,
       "grid_template_columns": null,
       "grid_template_rows": null,
       "height": null,
       "justify_content": null,
       "justify_items": null,
       "left": null,
       "margin": null,
       "max_height": null,
       "max_width": null,
       "min_height": null,
       "min_width": null,
       "object_fit": null,
       "object_position": null,
       "order": null,
       "overflow": null,
       "overflow_x": null,
       "overflow_y": null,
       "padding": null,
       "right": null,
       "top": null,
       "visibility": null,
       "width": null
      }
     },
     "842c6a4af9b343d08d137d3b2868850d": {
      "model_module": "@jupyter-widgets/controls",
      "model_module_version": "1.5.0",
      "model_name": "DescriptionStyleModel",
      "state": {
       "_model_module": "@jupyter-widgets/controls",
       "_model_module_version": "1.5.0",
       "_model_name": "DescriptionStyleModel",
       "_view_count": null,
       "_view_module": "@jupyter-widgets/base",
       "_view_module_version": "1.2.0",
       "_view_name": "StyleView",
       "description_width": ""
      }
     },
     "9fd7f0e432f041b5b91095dc5cc01665": {
      "model_module": "@jupyter-widgets/controls",
      "model_module_version": "1.5.0",
      "model_name": "DescriptionStyleModel",
      "state": {
       "_model_module": "@jupyter-widgets/controls",
       "_model_module_version": "1.5.0",
       "_model_name": "DescriptionStyleModel",
       "_view_count": null,
       "_view_module": "@jupyter-widgets/base",
       "_view_module_version": "1.2.0",
       "_view_name": "StyleView",
       "description_width": ""
      }
     },
     "a10956c6408941218c725bc70dfd3614": {
      "model_module": "@jupyter-widgets/base",
      "model_module_version": "1.2.0",
      "model_name": "LayoutModel",
      "state": {
       "_model_module": "@jupyter-widgets/base",
       "_model_module_version": "1.2.0",
       "_model_name": "LayoutModel",
       "_view_count": null,
       "_view_module": "@jupyter-widgets/base",
       "_view_module_version": "1.2.0",
       "_view_name": "LayoutView",
       "align_content": null,
       "align_items": null,
       "align_self": null,
       "border": null,
       "bottom": null,
       "display": null,
       "flex": null,
       "flex_flow": null,
       "grid_area": null,
       "grid_auto_columns": null,
       "grid_auto_flow": null,
       "grid_auto_rows": null,
       "grid_column": null,
       "grid_gap": null,
       "grid_row": null,
       "grid_template_areas": null,
       "grid_template_columns": null,
       "grid_template_rows": null,
       "height": null,
       "justify_content": null,
       "justify_items": null,
       "left": null,
       "margin": null,
       "max_height": null,
       "max_width": null,
       "min_height": null,
       "min_width": null,
       "object_fit": null,
       "object_position": null,
       "order": null,
       "overflow": null,
       "overflow_x": null,
       "overflow_y": null,
       "padding": null,
       "right": null,
       "top": null,
       "visibility": null,
       "width": null
      }
     },
     "aedbb0983aad462cbde824184030a246": {
      "model_module": "@jupyter-widgets/base",
      "model_module_version": "1.2.0",
      "model_name": "LayoutModel",
      "state": {
       "_model_module": "@jupyter-widgets/base",
       "_model_module_version": "1.2.0",
       "_model_name": "LayoutModel",
       "_view_count": null,
       "_view_module": "@jupyter-widgets/base",
       "_view_module_version": "1.2.0",
       "_view_name": "LayoutView",
       "align_content": null,
       "align_items": null,
       "align_self": null,
       "border": null,
       "bottom": null,
       "display": null,
       "flex": null,
       "flex_flow": null,
       "grid_area": null,
       "grid_auto_columns": null,
       "grid_auto_flow": null,
       "grid_auto_rows": null,
       "grid_column": null,
       "grid_gap": null,
       "grid_row": null,
       "grid_template_areas": null,
       "grid_template_columns": null,
       "grid_template_rows": null,
       "height": null,
       "justify_content": null,
       "justify_items": null,
       "left": null,
       "margin": null,
       "max_height": null,
       "max_width": null,
       "min_height": null,
       "min_width": null,
       "object_fit": null,
       "object_position": null,
       "order": null,
       "overflow": null,
       "overflow_x": null,
       "overflow_y": null,
       "padding": null,
       "right": null,
       "top": null,
       "visibility": null,
       "width": null
      }
     },
     "bc16c55bb5824dda83744b4a8f199181": {
      "model_module": "@jupyter-widgets/base",
      "model_module_version": "1.2.0",
      "model_name": "LayoutModel",
      "state": {
       "_model_module": "@jupyter-widgets/base",
       "_model_module_version": "1.2.0",
       "_model_name": "LayoutModel",
       "_view_count": null,
       "_view_module": "@jupyter-widgets/base",
       "_view_module_version": "1.2.0",
       "_view_name": "LayoutView",
       "align_content": null,
       "align_items": null,
       "align_self": null,
       "border": null,
       "bottom": null,
       "display": null,
       "flex": null,
       "flex_flow": null,
       "grid_area": null,
       "grid_auto_columns": null,
       "grid_auto_flow": null,
       "grid_auto_rows": null,
       "grid_column": null,
       "grid_gap": null,
       "grid_row": null,
       "grid_template_areas": null,
       "grid_template_columns": null,
       "grid_template_rows": null,
       "height": null,
       "justify_content": null,
       "justify_items": null,
       "left": null,
       "margin": null,
       "max_height": null,
       "max_width": null,
       "min_height": null,
       "min_width": null,
       "object_fit": null,
       "object_position": null,
       "order": null,
       "overflow": null,
       "overflow_x": null,
       "overflow_y": null,
       "padding": null,
       "right": null,
       "top": null,
       "visibility": null,
       "width": null
      }
     },
     "c9c5dff3e7dc4a61a228049d1f54a791": {
      "model_module": "@jupyter-widgets/controls",
      "model_module_version": "1.5.0",
      "model_name": "DescriptionStyleModel",
      "state": {
       "_model_module": "@jupyter-widgets/controls",
       "_model_module_version": "1.5.0",
       "_model_name": "DescriptionStyleModel",
       "_view_count": null,
       "_view_module": "@jupyter-widgets/base",
       "_view_module_version": "1.2.0",
       "_view_name": "StyleView",
       "description_width": ""
      }
     },
     "cab373b861254e55ae78b9824046820d": {
      "model_module": "@jupyter-widgets/controls",
      "model_module_version": "1.5.0",
      "model_name": "ProgressStyleModel",
      "state": {
       "_model_module": "@jupyter-widgets/controls",
       "_model_module_version": "1.5.0",
       "_model_name": "ProgressStyleModel",
       "_view_count": null,
       "_view_module": "@jupyter-widgets/base",
       "_view_module_version": "1.2.0",
       "_view_name": "StyleView",
       "bar_color": null,
       "description_width": ""
      }
     },
     "cd7e737fc5804ea4a59e105c14048cbc": {
      "model_module": "@jupyter-widgets/controls",
      "model_module_version": "1.5.0",
      "model_name": "HBoxModel",
      "state": {
       "_dom_classes": [],
       "_model_module": "@jupyter-widgets/controls",
       "_model_module_version": "1.5.0",
       "_model_name": "HBoxModel",
       "_view_count": null,
       "_view_module": "@jupyter-widgets/controls",
       "_view_module_version": "1.5.0",
       "_view_name": "HBoxView",
       "box_style": "",
       "children": [
        "IPY_MODEL_482fbe6184d940fe8a9e2d3d59f0617a",
        "IPY_MODEL_1c21019d5056465e825772b9393176e5",
        "IPY_MODEL_2f1d03880de54e239c8593f8af97b43a"
       ],
       "layout": "IPY_MODEL_4b32a9a922124146a79e5a8fb3a0c3ba"
      }
     },
     "d1d38fa11eb1412488aa29b926513474": {
      "model_module": "@jupyter-widgets/base",
      "model_module_version": "1.2.0",
      "model_name": "LayoutModel",
      "state": {
       "_model_module": "@jupyter-widgets/base",
       "_model_module_version": "1.2.0",
       "_model_name": "LayoutModel",
       "_view_count": null,
       "_view_module": "@jupyter-widgets/base",
       "_view_module_version": "1.2.0",
       "_view_name": "LayoutView",
       "align_content": null,
       "align_items": null,
       "align_self": null,
       "border": null,
       "bottom": null,
       "display": null,
       "flex": null,
       "flex_flow": null,
       "grid_area": null,
       "grid_auto_columns": null,
       "grid_auto_flow": null,
       "grid_auto_rows": null,
       "grid_column": null,
       "grid_gap": null,
       "grid_row": null,
       "grid_template_areas": null,
       "grid_template_columns": null,
       "grid_template_rows": null,
       "height": null,
       "justify_content": null,
       "justify_items": null,
       "left": null,
       "margin": null,
       "max_height": null,
       "max_width": null,
       "min_height": null,
       "min_width": null,
       "object_fit": null,
       "object_position": null,
       "order": null,
       "overflow": null,
       "overflow_x": null,
       "overflow_y": null,
       "padding": null,
       "right": null,
       "top": null,
       "visibility": null,
       "width": null
      }
     },
     "d51efb26a8924d9499bdce5feac566b2": {
      "model_module": "@jupyter-widgets/controls",
      "model_module_version": "1.5.0",
      "model_name": "DescriptionStyleModel",
      "state": {
       "_model_module": "@jupyter-widgets/controls",
       "_model_module_version": "1.5.0",
       "_model_name": "DescriptionStyleModel",
       "_view_count": null,
       "_view_module": "@jupyter-widgets/base",
       "_view_module_version": "1.2.0",
       "_view_name": "StyleView",
       "description_width": ""
      }
     },
     "e262c6005e4a4cceb66995d82def72e6": {
      "model_module": "@jupyter-widgets/base",
      "model_module_version": "1.2.0",
      "model_name": "LayoutModel",
      "state": {
       "_model_module": "@jupyter-widgets/base",
       "_model_module_version": "1.2.0",
       "_model_name": "LayoutModel",
       "_view_count": null,
       "_view_module": "@jupyter-widgets/base",
       "_view_module_version": "1.2.0",
       "_view_name": "LayoutView",
       "align_content": null,
       "align_items": null,
       "align_self": null,
       "border": null,
       "bottom": null,
       "display": null,
       "flex": null,
       "flex_flow": null,
       "grid_area": null,
       "grid_auto_columns": null,
       "grid_auto_flow": null,
       "grid_auto_rows": null,
       "grid_column": null,
       "grid_gap": null,
       "grid_row": null,
       "grid_template_areas": null,
       "grid_template_columns": null,
       "grid_template_rows": null,
       "height": null,
       "justify_content": null,
       "justify_items": null,
       "left": null,
       "margin": null,
       "max_height": null,
       "max_width": null,
       "min_height": null,
       "min_width": null,
       "object_fit": null,
       "object_position": null,
       "order": null,
       "overflow": null,
       "overflow_x": null,
       "overflow_y": null,
       "padding": null,
       "right": null,
       "top": null,
       "visibility": null,
       "width": null
      }
     },
     "f2ec8fc6a8924c71939fdaeeb1304726": {
      "model_module": "@jupyter-widgets/base",
      "model_module_version": "1.2.0",
      "model_name": "LayoutModel",
      "state": {
       "_model_module": "@jupyter-widgets/base",
       "_model_module_version": "1.2.0",
       "_model_name": "LayoutModel",
       "_view_count": null,
       "_view_module": "@jupyter-widgets/base",
       "_view_module_version": "1.2.0",
       "_view_name": "LayoutView",
       "align_content": null,
       "align_items": null,
       "align_self": null,
       "border": null,
       "bottom": null,
       "display": null,
       "flex": null,
       "flex_flow": null,
       "grid_area": null,
       "grid_auto_columns": null,
       "grid_auto_flow": null,
       "grid_auto_rows": null,
       "grid_column": null,
       "grid_gap": null,
       "grid_row": null,
       "grid_template_areas": null,
       "grid_template_columns": null,
       "grid_template_rows": null,
       "height": null,
       "justify_content": null,
       "justify_items": null,
       "left": null,
       "margin": null,
       "max_height": null,
       "max_width": null,
       "min_height": null,
       "min_width": null,
       "object_fit": null,
       "object_position": null,
       "order": null,
       "overflow": null,
       "overflow_x": null,
       "overflow_y": null,
       "padding": null,
       "right": null,
       "top": null,
       "visibility": null,
       "width": null
      }
     },
     "f682dfaba437476ebe9118005bc00460": {
      "model_module": "@jupyter-widgets/controls",
      "model_module_version": "1.5.0",
      "model_name": "HBoxModel",
      "state": {
       "_dom_classes": [],
       "_model_module": "@jupyter-widgets/controls",
       "_model_module_version": "1.5.0",
       "_model_name": "HBoxModel",
       "_view_count": null,
       "_view_module": "@jupyter-widgets/controls",
       "_view_module_version": "1.5.0",
       "_view_name": "HBoxView",
       "box_style": "",
       "children": [
        "IPY_MODEL_fa1fecc7be94442db45941eacc152abd",
        "IPY_MODEL_3ae9249e88c84c4f95f15af7f27e726a",
        "IPY_MODEL_748bb72a9d8c4ad8a16211c6dc93a14e"
       ],
       "layout": "IPY_MODEL_d1d38fa11eb1412488aa29b926513474"
      }
     },
     "f71d099cb4a6444c83f75442215f2cc1": {
      "model_module": "@jupyter-widgets/controls",
      "model_module_version": "1.5.0",
      "model_name": "HBoxModel",
      "state": {
       "_dom_classes": [],
       "_model_module": "@jupyter-widgets/controls",
       "_model_module_version": "1.5.0",
       "_model_name": "HBoxModel",
       "_view_count": null,
       "_view_module": "@jupyter-widgets/controls",
       "_view_module_version": "1.5.0",
       "_view_name": "HBoxView",
       "box_style": "",
       "children": [
        "IPY_MODEL_6d462b6e739f46f7af1f02606b88ac90",
        "IPY_MODEL_7bd48978997441c3963556dc5957a882",
        "IPY_MODEL_5ddd1e03ccc54efc98d24986dc993e36"
       ],
       "layout": "IPY_MODEL_7f56fcd52c3946b5bfeb1d6ea894009a"
      }
     },
     "fa1fecc7be94442db45941eacc152abd": {
      "model_module": "@jupyter-widgets/controls",
      "model_module_version": "1.5.0",
      "model_name": "HTMLModel",
      "state": {
       "_dom_classes": [],
       "_model_module": "@jupyter-widgets/controls",
       "_model_module_version": "1.5.0",
       "_model_name": "HTMLModel",
       "_view_count": null,
       "_view_module": "@jupyter-widgets/controls",
       "_view_module_version": "1.5.0",
       "_view_name": "HTMLView",
       "description": "",
       "description_tooltip": null,
       "layout": "IPY_MODEL_0d26b18f090f48ae972f0be5589adc7e",
       "placeholder": "​",
       "style": "IPY_MODEL_fe6016ca1b3140f28b30d71365fde1cb",
       "value": "Loading checkpoint shards: 100%"
      }
     },
     "fa8abd8bf03e41d39ab071354a425f5a": {
      "model_module": "@jupyter-widgets/base",
      "model_module_version": "1.2.0",
      "model_name": "LayoutModel",
      "state": {
       "_model_module": "@jupyter-widgets/base",
       "_model_module_version": "1.2.0",
       "_model_name": "LayoutModel",
       "_view_count": null,
       "_view_module": "@jupyter-widgets/base",
       "_view_module_version": "1.2.0",
       "_view_name": "LayoutView",
       "align_content": null,
       "align_items": null,
       "align_self": null,
       "border": null,
       "bottom": null,
       "display": null,
       "flex": null,
       "flex_flow": null,
       "grid_area": null,
       "grid_auto_columns": null,
       "grid_auto_flow": null,
       "grid_auto_rows": null,
       "grid_column": null,
       "grid_gap": null,
       "grid_row": null,
       "grid_template_areas": null,
       "grid_template_columns": null,
       "grid_template_rows": null,
       "height": null,
       "justify_content": null,
       "justify_items": null,
       "left": null,
       "margin": null,
       "max_height": null,
       "max_width": null,
       "min_height": null,
       "min_width": null,
       "object_fit": null,
       "object_position": null,
       "order": null,
       "overflow": null,
       "overflow_x": null,
       "overflow_y": null,
       "padding": null,
       "right": null,
       "top": null,
       "visibility": null,
       "width": null
      }
     },
     "fe6016ca1b3140f28b30d71365fde1cb": {
      "model_module": "@jupyter-widgets/controls",
      "model_module_version": "1.5.0",
      "model_name": "DescriptionStyleModel",
      "state": {
       "_model_module": "@jupyter-widgets/controls",
       "_model_module_version": "1.5.0",
       "_model_name": "DescriptionStyleModel",
       "_view_count": null,
       "_view_module": "@jupyter-widgets/base",
       "_view_module_version": "1.2.0",
       "_view_name": "StyleView",
       "description_width": ""
      }
     }
    },
    "version_major": 2,
    "version_minor": 0
   }
  }
 },
 "nbformat": 4,
 "nbformat_minor": 5
}
